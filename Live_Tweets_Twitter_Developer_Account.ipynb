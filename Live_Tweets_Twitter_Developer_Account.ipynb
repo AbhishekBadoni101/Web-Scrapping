{
  "nbformat": 4,
  "nbformat_minor": 0,
  "metadata": {
    "colab": {
      "name": "Live Tweets-Twitter Developer Account.ipynb",
      "provenance": [],
      "authorship_tag": "ABX9TyM0KK5KvStUXmzvzev5ZcmC",
      "include_colab_link": true
    },
    "kernelspec": {
      "name": "python3",
      "display_name": "Python 3"
    }
  },
  "cells": [
    {
      "cell_type": "markdown",
      "metadata": {
        "id": "view-in-github",
        "colab_type": "text"
      },
      "source": [
        "<a href=\"https://colab.research.google.com/github/AbhishekBadoni101/Web-Scrapping/blob/master/Live_Tweets_Twitter_Developer_Account.ipynb\" target=\"_parent\"><img src=\"https://colab.research.google.com/assets/colab-badge.svg\" alt=\"Open In Colab\"/></a>"
      ]
    },
    {
      "cell_type": "code",
      "metadata": {
        "id": "-rm8ebEduOP3",
        "colab_type": "code",
        "colab": {}
      },
      "source": [
        "api = '******************'    #### enter your API Key         \n",
        "api_secret = '*****************' #### enter your API_secret\n",
        "access = '************************'   #### enter your access key\n",
        "access_secret = 'RAA8YkJT4zL4V8GPAqWDTGgqzhYqNMY4NDiIGseoYVLVS'    #### enter your access_secret\n"
      ],
      "execution_count": null,
      "outputs": []
    },
    {
      "cell_type": "code",
      "metadata": {
        "id": "I_kTvRwFuqoC",
        "colab_type": "code",
        "colab": {}
      },
      "source": [
        "import tweepy"
      ],
      "execution_count": null,
      "outputs": []
    },
    {
      "cell_type": "code",
      "metadata": {
        "id": "VWtZ7mfEvPGt",
        "colab_type": "code",
        "colab": {}
      },
      "source": [
        "auth = tweepy.OAuthHandler(api,api_secret)\n",
        "auth.set_access_token(access,access_secret)"
      ],
      "execution_count": null,
      "outputs": []
    },
    {
      "cell_type": "code",
      "metadata": {
        "id": "i1qWbw3IvcsD",
        "colab_type": "code",
        "colab": {}
      },
      "source": [
        "api = tweepy.API(auth)"
      ],
      "execution_count": null,
      "outputs": []
    },
    {
      "cell_type": "code",
      "metadata": {
        "id": "oJI-YLTbvgra",
        "colab_type": "code",
        "colab": {}
      },
      "source": [
        "tweets = api.search('sushant singh rajput')    #### any trending topic of your choice"
      ],
      "execution_count": null,
      "outputs": []
    },
    {
      "cell_type": "code",
      "metadata": {
        "id": "v-JWkhFewMOk",
        "colab_type": "code",
        "colab": {
          "base_uri": "https://localhost:8080/",
          "height": 54
        },
        "outputId": "b8516dd8-662e-4a35-dd6d-fe90868fbd43"
      },
      "source": [
        "tweets[0].text"
      ],
      "execution_count": null,
      "outputs": [
        {
          "output_type": "execute_result",
          "data": {
            "application/vnd.google.colaboratory.intrinsic": {
              "type": "string"
            },
            "text/plain": [
              "'RT @Oshi37654862: #WorldSeekingJusticeForSSR \\nPlease guys tweet for Sushant Singh Rajput agar apke pass time nhi h to please retweet.\\n\\nLove…'"
            ]
          },
          "metadata": {
            "tags": []
          },
          "execution_count": 25
        }
      ]
    },
    {
      "cell_type": "code",
      "metadata": {
        "id": "dgF7z2OpwjCc",
        "colab_type": "code",
        "colab": {
          "base_uri": "https://localhost:8080/",
          "height": 864
        },
        "outputId": "0522f86f-7c82-420c-d4d9-2963207e57dc"
      },
      "source": [
        "for i in tweets:\n",
        "  print(i.text)"
      ],
      "execution_count": null,
      "outputs": [
        {
          "output_type": "stream",
          "text": [
            "RT @Oshi37654862: #WorldSeekingJusticeForSSR \n",
            "Please guys tweet for Sushant Singh Rajput agar apke pass time nhi h to please retweet.\n",
            "\n",
            "Love…\n",
            "RT @pinkvilla: EXCLUSIVE: #KanganaRanaut on fight for #SushantSinghRajput: Won’t gain films or money; Will only gain enemies - https://t.co…\n",
            "RT @ShiviKumari8: 218k tweets complete !!\n",
            "\n",
            "World demand CBI enquiry for Sushant Singh Rajput \n",
            "\n",
            "#WorldSeekingJusticeForSSR\n",
            "RT @FANofSSR: Repeat after me -\n",
            "\n",
            "Sushant Singh Rajput is the best thing in the world.\n",
            "RT @RoarLikeSherni: \"\"Sushant Singh Rajput\"'\n",
            "\n",
            "The name is now full of Emotions \n",
            "\n",
            "#WorldSeekingJusticeForSSR\n",
            "RT @Joydas: Kangana: Alia made fun of fellow actor Sushant Singh Rajput in Karan Johar’s show on National TV. How would he have felt watchi…\n",
            "RT @ShiviKumari8: Repeat after me - \n",
            "\n",
            "Sushant Singh Rajput was not depressed neither he committed suicide !!\n",
            "\n",
            "World demand CBI enquiry for…\n",
            "How many of you have seen huff paranormal of Sushant Singh Rajput on Youtube? How many of you believe it? Curious\n",
            "RT @CHAUDHARY____S: Each and every day people are posting in Facebook, Insta , Twitter , YouTube \n",
            "\n",
            "Justice For Sushant Singh Rajput Why can…\n",
            "RT @OpIndia_com: After Kangana Ranaut accuses Mahesh Bhatt of abusive behaviour, entire Bhatt family posts cryptic messages on social media…\n",
            "RT @Alokmishra416: Sushant Singh Rajput..\n",
            "\n",
            "Who teach us in 2nd last movie chichore ! Suicide is not a solution\n",
            "\n",
            "Who was telling if i will n…\n",
            "RT @TheThakurSaheb: You may or may not support Kangana Ranaut's political stand but undoubtedly we should support her in the fight against…\n",
            "RT @RupakCh94223908: WE  WANT  CBI INQUIRY  OF SUSHANT SINGH RAJPUT  AS SOON AS  POSSIBLE....  DO IT  AS FAST AS  POSSIBLE, IF  REALLY  YOU…\n",
            "RT @Beingrealbeing: Attention⚠️\n",
            "\n",
            "Today's Trend Tagline Revelation \n",
            "TAGLINE - #WorldSeekingJusticeForSSR\n",
            "\n",
            "Time - 3 PM \n",
            "\n",
            "Guys come forward to…\n",
            "RT @AkshitManu: We the fans of the late sushant Singh rajput want CBI enquiry in the case #NoCBINoVote   #WorldSeekingJusticeForSSR https:/…\n"
          ],
          "name": "stdout"
        }
      ]
    },
    {
      "cell_type": "code",
      "metadata": {
        "id": "D4kKIDs_xwnU",
        "colab_type": "code",
        "colab": {
          "base_uri": "https://localhost:8080/",
          "height": 864
        },
        "outputId": "2135930e-eb3f-44bf-9875-8dda457ee3d4"
      },
      "source": [
        "text = []\n",
        "for i in tweets:\n",
        "  print(i.text)\n",
        "  text.append(i.text)"
      ],
      "execution_count": null,
      "outputs": [
        {
          "output_type": "stream",
          "text": [
            "RT @Oshi37654862: #WorldSeekingJusticeForSSR \n",
            "Please guys tweet for Sushant Singh Rajput agar apke pass time nhi h to please retweet.\n",
            "\n",
            "Love…\n",
            "RT @pinkvilla: EXCLUSIVE: #KanganaRanaut on fight for #SushantSinghRajput: Won’t gain films or money; Will only gain enemies - https://t.co…\n",
            "RT @ShiviKumari8: 218k tweets complete !!\n",
            "\n",
            "World demand CBI enquiry for Sushant Singh Rajput \n",
            "\n",
            "#WorldSeekingJusticeForSSR\n",
            "RT @FANofSSR: Repeat after me -\n",
            "\n",
            "Sushant Singh Rajput is the best thing in the world.\n",
            "RT @RoarLikeSherni: \"\"Sushant Singh Rajput\"'\n",
            "\n",
            "The name is now full of Emotions \n",
            "\n",
            "#WorldSeekingJusticeForSSR\n",
            "RT @Joydas: Kangana: Alia made fun of fellow actor Sushant Singh Rajput in Karan Johar’s show on National TV. How would he have felt watchi…\n",
            "RT @ShiviKumari8: Repeat after me - \n",
            "\n",
            "Sushant Singh Rajput was not depressed neither he committed suicide !!\n",
            "\n",
            "World demand CBI enquiry for…\n",
            "How many of you have seen huff paranormal of Sushant Singh Rajput on Youtube? How many of you believe it? Curious\n",
            "RT @CHAUDHARY____S: Each and every day people are posting in Facebook, Insta , Twitter , YouTube \n",
            "\n",
            "Justice For Sushant Singh Rajput Why can…\n",
            "RT @OpIndia_com: After Kangana Ranaut accuses Mahesh Bhatt of abusive behaviour, entire Bhatt family posts cryptic messages on social media…\n",
            "RT @Alokmishra416: Sushant Singh Rajput..\n",
            "\n",
            "Who teach us in 2nd last movie chichore ! Suicide is not a solution\n",
            "\n",
            "Who was telling if i will n…\n",
            "RT @TheThakurSaheb: You may or may not support Kangana Ranaut's political stand but undoubtedly we should support her in the fight against…\n",
            "RT @RupakCh94223908: WE  WANT  CBI INQUIRY  OF SUSHANT SINGH RAJPUT  AS SOON AS  POSSIBLE....  DO IT  AS FAST AS  POSSIBLE, IF  REALLY  YOU…\n",
            "RT @Beingrealbeing: Attention⚠️\n",
            "\n",
            "Today's Trend Tagline Revelation \n",
            "TAGLINE - #WorldSeekingJusticeForSSR\n",
            "\n",
            "Time - 3 PM \n",
            "\n",
            "Guys come forward to…\n",
            "RT @AkshitManu: We the fans of the late sushant Singh rajput want CBI enquiry in the case #NoCBINoVote   #WorldSeekingJusticeForSSR https:/…\n"
          ],
          "name": "stdout"
        }
      ]
    },
    {
      "cell_type": "code",
      "metadata": {
        "id": "LQrbdKDr0lvs",
        "colab_type": "code",
        "colab": {
          "base_uri": "https://localhost:8080/",
          "height": 520
        },
        "outputId": "68973e5a-a3be-4c11-bf8a-1d5e9083e3c7"
      },
      "source": [
        "import pandas as pd\n",
        "df = pd.DataFrame()\n",
        "df['Tweets'] = text\n",
        "df"
      ],
      "execution_count": null,
      "outputs": [
        {
          "output_type": "execute_result",
          "data": {
            "text/html": [
              "<div>\n",
              "<style scoped>\n",
              "    .dataframe tbody tr th:only-of-type {\n",
              "        vertical-align: middle;\n",
              "    }\n",
              "\n",
              "    .dataframe tbody tr th {\n",
              "        vertical-align: top;\n",
              "    }\n",
              "\n",
              "    .dataframe thead th {\n",
              "        text-align: right;\n",
              "    }\n",
              "</style>\n",
              "<table border=\"1\" class=\"dataframe\">\n",
              "  <thead>\n",
              "    <tr style=\"text-align: right;\">\n",
              "      <th></th>\n",
              "      <th>Tweets</th>\n",
              "    </tr>\n",
              "  </thead>\n",
              "  <tbody>\n",
              "    <tr>\n",
              "      <th>0</th>\n",
              "      <td>RT @Oshi37654862: #WorldSeekingJusticeForSSR \\...</td>\n",
              "    </tr>\n",
              "    <tr>\n",
              "      <th>1</th>\n",
              "      <td>RT @pinkvilla: EXCLUSIVE: #KanganaRanaut on fi...</td>\n",
              "    </tr>\n",
              "    <tr>\n",
              "      <th>2</th>\n",
              "      <td>RT @ShiviKumari8: 218k tweets complete !!\\n\\nW...</td>\n",
              "    </tr>\n",
              "    <tr>\n",
              "      <th>3</th>\n",
              "      <td>RT @FANofSSR: Repeat after me -\\n\\nSushant Sin...</td>\n",
              "    </tr>\n",
              "    <tr>\n",
              "      <th>4</th>\n",
              "      <td>RT @RoarLikeSherni: \"\"Sushant Singh Rajput\"'\\n...</td>\n",
              "    </tr>\n",
              "    <tr>\n",
              "      <th>5</th>\n",
              "      <td>RT @Joydas: Kangana: Alia made fun of fellow a...</td>\n",
              "    </tr>\n",
              "    <tr>\n",
              "      <th>6</th>\n",
              "      <td>RT @ShiviKumari8: Repeat after me - \\n\\nSushan...</td>\n",
              "    </tr>\n",
              "    <tr>\n",
              "      <th>7</th>\n",
              "      <td>How many of you have seen huff paranormal of S...</td>\n",
              "    </tr>\n",
              "    <tr>\n",
              "      <th>8</th>\n",
              "      <td>RT @CHAUDHARY____S: Each and every day people ...</td>\n",
              "    </tr>\n",
              "    <tr>\n",
              "      <th>9</th>\n",
              "      <td>RT @OpIndia_com: After Kangana Ranaut accuses ...</td>\n",
              "    </tr>\n",
              "    <tr>\n",
              "      <th>10</th>\n",
              "      <td>RT @Alokmishra416: Sushant Singh Rajput..\\n\\nW...</td>\n",
              "    </tr>\n",
              "    <tr>\n",
              "      <th>11</th>\n",
              "      <td>RT @TheThakurSaheb: You may or may not support...</td>\n",
              "    </tr>\n",
              "    <tr>\n",
              "      <th>12</th>\n",
              "      <td>RT @RupakCh94223908: WE  WANT  CBI INQUIRY  OF...</td>\n",
              "    </tr>\n",
              "    <tr>\n",
              "      <th>13</th>\n",
              "      <td>RT @Beingrealbeing: Attention⚠️\\n\\nToday's Tre...</td>\n",
              "    </tr>\n",
              "    <tr>\n",
              "      <th>14</th>\n",
              "      <td>RT @AkshitManu: We the fans of the late sushan...</td>\n",
              "    </tr>\n",
              "  </tbody>\n",
              "</table>\n",
              "</div>"
            ],
            "text/plain": [
              "                                               Tweets\n",
              "0   RT @Oshi37654862: #WorldSeekingJusticeForSSR \\...\n",
              "1   RT @pinkvilla: EXCLUSIVE: #KanganaRanaut on fi...\n",
              "2   RT @ShiviKumari8: 218k tweets complete !!\\n\\nW...\n",
              "3   RT @FANofSSR: Repeat after me -\\n\\nSushant Sin...\n",
              "4   RT @RoarLikeSherni: \"\"Sushant Singh Rajput\"'\\n...\n",
              "5   RT @Joydas: Kangana: Alia made fun of fellow a...\n",
              "6   RT @ShiviKumari8: Repeat after me - \\n\\nSushan...\n",
              "7   How many of you have seen huff paranormal of S...\n",
              "8   RT @CHAUDHARY____S: Each and every day people ...\n",
              "9   RT @OpIndia_com: After Kangana Ranaut accuses ...\n",
              "10  RT @Alokmishra416: Sushant Singh Rajput..\\n\\nW...\n",
              "11  RT @TheThakurSaheb: You may or may not support...\n",
              "12  RT @RupakCh94223908: WE  WANT  CBI INQUIRY  OF...\n",
              "13  RT @Beingrealbeing: Attention⚠️\\n\\nToday's Tre...\n",
              "14  RT @AkshitManu: We the fans of the late sushan..."
            ]
          },
          "metadata": {
            "tags": []
          },
          "execution_count": 28
        }
      ]
    },
    {
      "cell_type": "code",
      "metadata": {
        "id": "czRNCjWx0pye",
        "colab_type": "code",
        "colab": {}
      },
      "source": [
        ""
      ],
      "execution_count": null,
      "outputs": []
    }
  ]
}